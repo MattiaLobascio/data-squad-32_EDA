{
 "cells": [
  {
   "cell_type": "code",
   "execution_count": 1,
   "metadata": {},
   "outputs": [],
   "source": [
    "import pandas as pd\n",
    "import numpy as np\n",
    "import matplotlib.pyplot as plt\n",
    "import seaborn as sns\n",
    "plt.style.use(\"classic\")\n",
    "%matplotlib inline"
   ]
  },
  {
   "cell_type": "code",
   "execution_count": 2,
   "metadata": {},
   "outputs": [
    {
     "name": "stdout",
     "output_type": "stream",
     "text": [
      "1259\n"
     ]
    },
    {
     "data": {
      "text/html": [
       "<div>\n",
       "<style scoped>\n",
       "    .dataframe tbody tr th:only-of-type {\n",
       "        vertical-align: middle;\n",
       "    }\n",
       "\n",
       "    .dataframe tbody tr th {\n",
       "        vertical-align: top;\n",
       "    }\n",
       "\n",
       "    .dataframe thead th {\n",
       "        text-align: right;\n",
       "    }\n",
       "</style>\n",
       "<table border=\"1\" class=\"dataframe\">\n",
       "  <thead>\n",
       "    <tr style=\"text-align: right;\">\n",
       "      <th></th>\n",
       "      <th>Timestamp</th>\n",
       "      <th>Age</th>\n",
       "      <th>Gender</th>\n",
       "      <th>Country</th>\n",
       "      <th>state</th>\n",
       "      <th>self_employed</th>\n",
       "      <th>family_history</th>\n",
       "      <th>treatment</th>\n",
       "      <th>work_interfere</th>\n",
       "      <th>no_employees</th>\n",
       "      <th>...</th>\n",
       "      <th>leave</th>\n",
       "      <th>mental_health_consequence</th>\n",
       "      <th>phys_health_consequence</th>\n",
       "      <th>coworkers</th>\n",
       "      <th>supervisor</th>\n",
       "      <th>mental_health_interview</th>\n",
       "      <th>phys_health_interview</th>\n",
       "      <th>mental_vs_physical</th>\n",
       "      <th>obs_consequence</th>\n",
       "      <th>comments</th>\n",
       "    </tr>\n",
       "  </thead>\n",
       "  <tbody>\n",
       "    <tr>\n",
       "      <th>0</th>\n",
       "      <td>2014-08-27 11:29:31</td>\n",
       "      <td>37</td>\n",
       "      <td>Female</td>\n",
       "      <td>United States</td>\n",
       "      <td>IL</td>\n",
       "      <td>NaN</td>\n",
       "      <td>No</td>\n",
       "      <td>Yes</td>\n",
       "      <td>Often</td>\n",
       "      <td>6-25</td>\n",
       "      <td>...</td>\n",
       "      <td>Somewhat easy</td>\n",
       "      <td>No</td>\n",
       "      <td>No</td>\n",
       "      <td>Some of them</td>\n",
       "      <td>Yes</td>\n",
       "      <td>No</td>\n",
       "      <td>Maybe</td>\n",
       "      <td>Yes</td>\n",
       "      <td>No</td>\n",
       "      <td>NaN</td>\n",
       "    </tr>\n",
       "    <tr>\n",
       "      <th>1</th>\n",
       "      <td>2014-08-27 11:29:37</td>\n",
       "      <td>44</td>\n",
       "      <td>M</td>\n",
       "      <td>United States</td>\n",
       "      <td>IN</td>\n",
       "      <td>NaN</td>\n",
       "      <td>No</td>\n",
       "      <td>No</td>\n",
       "      <td>Rarely</td>\n",
       "      <td>More than 1000</td>\n",
       "      <td>...</td>\n",
       "      <td>Don't know</td>\n",
       "      <td>Maybe</td>\n",
       "      <td>No</td>\n",
       "      <td>No</td>\n",
       "      <td>No</td>\n",
       "      <td>No</td>\n",
       "      <td>No</td>\n",
       "      <td>Don't know</td>\n",
       "      <td>No</td>\n",
       "      <td>NaN</td>\n",
       "    </tr>\n",
       "    <tr>\n",
       "      <th>2</th>\n",
       "      <td>2014-08-27 11:29:44</td>\n",
       "      <td>32</td>\n",
       "      <td>Male</td>\n",
       "      <td>Canada</td>\n",
       "      <td>NaN</td>\n",
       "      <td>NaN</td>\n",
       "      <td>No</td>\n",
       "      <td>No</td>\n",
       "      <td>Rarely</td>\n",
       "      <td>6-25</td>\n",
       "      <td>...</td>\n",
       "      <td>Somewhat difficult</td>\n",
       "      <td>No</td>\n",
       "      <td>No</td>\n",
       "      <td>Yes</td>\n",
       "      <td>Yes</td>\n",
       "      <td>Yes</td>\n",
       "      <td>Yes</td>\n",
       "      <td>No</td>\n",
       "      <td>No</td>\n",
       "      <td>NaN</td>\n",
       "    </tr>\n",
       "    <tr>\n",
       "      <th>3</th>\n",
       "      <td>2014-08-27 11:29:46</td>\n",
       "      <td>31</td>\n",
       "      <td>Male</td>\n",
       "      <td>United Kingdom</td>\n",
       "      <td>NaN</td>\n",
       "      <td>NaN</td>\n",
       "      <td>Yes</td>\n",
       "      <td>Yes</td>\n",
       "      <td>Often</td>\n",
       "      <td>26-100</td>\n",
       "      <td>...</td>\n",
       "      <td>Somewhat difficult</td>\n",
       "      <td>Yes</td>\n",
       "      <td>Yes</td>\n",
       "      <td>Some of them</td>\n",
       "      <td>No</td>\n",
       "      <td>Maybe</td>\n",
       "      <td>Maybe</td>\n",
       "      <td>No</td>\n",
       "      <td>Yes</td>\n",
       "      <td>NaN</td>\n",
       "    </tr>\n",
       "    <tr>\n",
       "      <th>4</th>\n",
       "      <td>2014-08-27 11:30:22</td>\n",
       "      <td>31</td>\n",
       "      <td>Male</td>\n",
       "      <td>United States</td>\n",
       "      <td>TX</td>\n",
       "      <td>NaN</td>\n",
       "      <td>No</td>\n",
       "      <td>No</td>\n",
       "      <td>Never</td>\n",
       "      <td>100-500</td>\n",
       "      <td>...</td>\n",
       "      <td>Don't know</td>\n",
       "      <td>No</td>\n",
       "      <td>No</td>\n",
       "      <td>Some of them</td>\n",
       "      <td>Yes</td>\n",
       "      <td>Yes</td>\n",
       "      <td>Yes</td>\n",
       "      <td>Don't know</td>\n",
       "      <td>No</td>\n",
       "      <td>NaN</td>\n",
       "    </tr>\n",
       "  </tbody>\n",
       "</table>\n",
       "<p>5 rows × 27 columns</p>\n",
       "</div>"
      ],
      "text/plain": [
       "             Timestamp  Age  Gender         Country state self_employed  \\\n",
       "0  2014-08-27 11:29:31   37  Female   United States    IL           NaN   \n",
       "1  2014-08-27 11:29:37   44       M   United States    IN           NaN   \n",
       "2  2014-08-27 11:29:44   32    Male          Canada   NaN           NaN   \n",
       "3  2014-08-27 11:29:46   31    Male  United Kingdom   NaN           NaN   \n",
       "4  2014-08-27 11:30:22   31    Male   United States    TX           NaN   \n",
       "\n",
       "  family_history treatment work_interfere    no_employees  ...  \\\n",
       "0             No       Yes          Often            6-25  ...   \n",
       "1             No        No         Rarely  More than 1000  ...   \n",
       "2             No        No         Rarely            6-25  ...   \n",
       "3            Yes       Yes          Often          26-100  ...   \n",
       "4             No        No          Never         100-500  ...   \n",
       "\n",
       "                leave mental_health_consequence phys_health_consequence  \\\n",
       "0       Somewhat easy                        No                      No   \n",
       "1          Don't know                     Maybe                      No   \n",
       "2  Somewhat difficult                        No                      No   \n",
       "3  Somewhat difficult                       Yes                     Yes   \n",
       "4          Don't know                        No                      No   \n",
       "\n",
       "      coworkers supervisor mental_health_interview phys_health_interview  \\\n",
       "0  Some of them        Yes                      No                 Maybe   \n",
       "1            No         No                      No                    No   \n",
       "2           Yes        Yes                     Yes                   Yes   \n",
       "3  Some of them         No                   Maybe                 Maybe   \n",
       "4  Some of them        Yes                     Yes                   Yes   \n",
       "\n",
       "  mental_vs_physical obs_consequence comments  \n",
       "0                Yes              No      NaN  \n",
       "1         Don't know              No      NaN  \n",
       "2                 No              No      NaN  \n",
       "3                 No             Yes      NaN  \n",
       "4         Don't know              No      NaN  \n",
       "\n",
       "[5 rows x 27 columns]"
      ]
     },
     "execution_count": 2,
     "metadata": {},
     "output_type": "execute_result"
    }
   ],
   "source": [
    "ds = pd.read_csv(\"survey.csv\")\n",
    "print(len(ds))\n",
    "ds.head(5)"
   ]
  },
  {
   "cell_type": "markdown",
   "metadata": {},
   "source": [
    "### Description of Columns\n",
    "state: If you live in the United States, which state or territory do you live in?\n",
    "\n",
    "self_employed: Are you self-employed?\n",
    "\n",
    "family_history: Do you have a family history of mental illness?\n",
    "\n",
    "treatment: Have you sought treatment for a mental health condition?\n",
    "\n",
    "work_interfere: If you have a mental health condition, do you feel that it interferes with your work?\n",
    "\n",
    "no_employees: How many employees does your company or organization have?\n",
    "\n",
    "remote_work: Do you work remotely (outside of an office) at least 50% of the time?\n",
    "\n",
    "tech_company: Is your employer primarily a tech company/organization?\n",
    "\n",
    "benefits: Does your employer provide mental health benefits?\n",
    "\n",
    "care_options: Do you know the options for mental health care your employer provides?\n",
    "\n",
    "wellness_program: Has your employer ever discussed mental health as part of an employee \n",
    "wellness program?\n",
    "\n",
    "seek_help: Does your employer provide resources to learn more about mental health issues and how to seek help?\n",
    "\n",
    "anonymity: Is your anonymity protected if you choose to take advantage of mental health or substance abuse treatment resources?\n",
    "\n",
    "leave: How easy is it for you to take medical leave for a mental health condition?\n",
    "\n",
    "mental_health_consequence: Do you think that discussing a mental health issue with your \n",
    "employer would have negative consequences?\n",
    "\n",
    "phys_health_consequence: Do you think that discussing a physical health issue with your employer would have negative consequences?\n",
    "\n",
    "coworkers: Would you be willing to discuss a mental health issue with your coworkers?\n",
    "\n",
    "supervimsor: Would you be willing to discuss a mental health issue with your direct supervisor(s)?\n",
    "\n",
    "mental_health_interview: Would you bring up a mental health issue with a potential employer in an interview?\n",
    "\n",
    "phys_health_interview: Would you bring up a physical health issue with a potential employer in an interview?\n",
    "\n",
    "mental_vs_physical: Do you feel that your employer takes mental health as seriously as physical health?\n",
    "\n",
    "obs_consequence: Have you heard of or observed negative consequences for coworkers with mental health conditions in your workplace?\n",
    "\n",
    "comments: Any additional notes or comments"
   ]
  },
  {
   "cell_type": "markdown",
   "metadata": {},
   "source": [
    "### CLEANING"
   ]
  },
  {
   "cell_type": "code",
   "execution_count": 3,
   "metadata": {},
   "outputs": [
    {
     "data": {
      "text/plain": [
       "Timestamp                    object\n",
       "Age                           int64\n",
       "Gender                       object\n",
       "Country                      object\n",
       "state                        object\n",
       "self_employed                object\n",
       "family_history               object\n",
       "treatment                    object\n",
       "work_interfere               object\n",
       "no_employees                 object\n",
       "remote_work                  object\n",
       "tech_company                 object\n",
       "benefits                     object\n",
       "care_options                 object\n",
       "wellness_program             object\n",
       "seek_help                    object\n",
       "anonymity                    object\n",
       "leave                        object\n",
       "mental_health_consequence    object\n",
       "phys_health_consequence      object\n",
       "coworkers                    object\n",
       "supervisor                   object\n",
       "mental_health_interview      object\n",
       "phys_health_interview        object\n",
       "mental_vs_physical           object\n",
       "obs_consequence              object\n",
       "comments                     object\n",
       "dtype: object"
      ]
     },
     "execution_count": 3,
     "metadata": {},
     "output_type": "execute_result"
    }
   ],
   "source": [
    "#Check type of data by columns\n",
    "ds.dtypes"
   ]
  },
  {
   "cell_type": "code",
   "execution_count": 4,
   "metadata": {},
   "outputs": [
    {
     "name": "stdout",
     "output_type": "stream",
     "text": [
      "Timestamp ['2014-08-27 11:29:31' '2014-08-27 11:29:37' '2014-08-27 11:29:44' ...\n",
      " '2015-11-07 12:36:58' '2015-11-30 21:25:06' '2016-02-01 23:04:31']\n",
      "Age [         37          44          32          31          33          35\n",
      "          39          42          23          29          36          27\n",
      "          46          41          34          30          40          38\n",
      "          50          24          18          28          26          22\n",
      "          19          25          45          21         -29          43\n",
      "          56          60          54         329          55 99999999999\n",
      "          48          20          57          58          47          62\n",
      "          51          65          49       -1726           5          53\n",
      "          61           8          11          -1          72]\n",
      "Gender ['Female' 'M' 'Male' 'male' 'female' 'm' 'Male-ish' 'maile' 'Trans-female'\n",
      " 'Cis Female' 'F' 'something kinda male?' 'Cis Male' 'Woman' 'f' 'Mal'\n",
      " 'Male (CIS)' 'queer/she/they' 'non-binary' 'Femake' 'woman' 'Make' 'Nah'\n",
      " 'All' 'Enby' 'fluid' 'Genderqueer' 'Female ' 'Androgyne' 'Agender'\n",
      " 'cis-female/femme' 'Guy (-ish) ^_^' 'male leaning androgynous' 'Male '\n",
      " 'Man' 'Trans woman' 'msle' 'Neuter' 'Female (trans)' 'queer'\n",
      " 'Female (cis)' 'Mail' 'cis male' 'A little about you' 'Malr' 'p' 'femail'\n",
      " 'Cis Man' 'ostensibly male, unsure what that really means']\n",
      "Country ['United States' 'Canada' 'United Kingdom' 'Bulgaria' 'France' 'Portugal'\n",
      " 'Netherlands' 'Switzerland' 'Poland' 'Australia' 'Germany' 'Russia'\n",
      " 'Mexico' 'Brazil' 'Slovenia' 'Costa Rica' 'Austria' 'Ireland' 'India'\n",
      " 'South Africa' 'Italy' 'Sweden' 'Colombia' 'Latvia' 'Romania' 'Belgium'\n",
      " 'New Zealand' 'Zimbabwe' 'Spain' 'Finland' 'Uruguay' 'Israel'\n",
      " 'Bosnia and Herzegovina' 'Hungary' 'Singapore' 'Japan' 'Nigeria'\n",
      " 'Croatia' 'Norway' 'Thailand' 'Denmark' 'Bahamas, The' 'Greece' 'Moldova'\n",
      " 'Georgia' 'China' 'Czech Republic' 'Philippines']\n",
      "state ['IL' 'IN' nan 'TX' 'TN' 'MI' 'OH' 'CA' 'CT' 'MD' 'NY' 'NC' 'MA' 'IA' 'PA'\n",
      " 'WA' 'WI' 'UT' 'NM' 'OR' 'FL' 'MN' 'MO' 'AZ' 'CO' 'GA' 'DC' 'NE' 'WV'\n",
      " 'OK' 'KS' 'VA' 'NH' 'KY' 'AL' 'NV' 'NJ' 'SC' 'VT' 'SD' 'ID' 'MS' 'RI'\n",
      " 'WY' 'LA' 'ME']\n",
      "self_employed [nan 'Yes' 'No']\n",
      "family_history ['No' 'Yes']\n",
      "treatment ['Yes' 'No']\n",
      "work_interfere ['Often' 'Rarely' 'Never' 'Sometimes' nan]\n",
      "no_employees ['6-25' 'More than 1000' '26-100' '100-500' '1-5' '500-1000']\n",
      "remote_work ['No' 'Yes']\n",
      "tech_company ['Yes' 'No']\n",
      "benefits ['Yes' \"Don't know\" 'No']\n",
      "care_options ['Not sure' 'No' 'Yes']\n",
      "wellness_program ['No' \"Don't know\" 'Yes']\n",
      "seek_help ['Yes' \"Don't know\" 'No']\n",
      "anonymity ['Yes' \"Don't know\" 'No']\n",
      "leave ['Somewhat easy' \"Don't know\" 'Somewhat difficult' 'Very difficult'\n",
      " 'Very easy']\n",
      "mental_health_consequence ['No' 'Maybe' 'Yes']\n",
      "phys_health_consequence ['No' 'Yes' 'Maybe']\n",
      "coworkers ['Some of them' 'No' 'Yes']\n",
      "supervisor ['Yes' 'No' 'Some of them']\n",
      "mental_health_interview ['No' 'Yes' 'Maybe']\n",
      "phys_health_interview ['Maybe' 'No' 'Yes']\n",
      "mental_vs_physical ['Yes' \"Don't know\" 'No']\n",
      "obs_consequence ['No' 'Yes']\n"
     ]
    }
   ],
   "source": [
    "#This checks values of each of the columns as preliminary overview of how dataset is structured\n",
    "\n",
    "colnames = [col for col in ds.columns]\n",
    "for col in colnames[:-1]:\n",
    "    print(col, ds[col].unique())"
   ]
  },
  {
   "cell_type": "code",
   "execution_count": 5,
   "metadata": {},
   "outputs": [],
   "source": [
    "colnames = [col for col in ds.columns]\n",
    "for col in colnames:\n",
    "    ds[col].astype(\"str\")"
   ]
  },
  {
   "cell_type": "code",
   "execution_count": 6,
   "metadata": {
    "scrolled": true
   },
   "outputs": [
    {
     "name": "stdout",
     "output_type": "stream",
     "text": [
      "Number nulls in Age: 15\n"
     ]
    }
   ],
   "source": [
    "# Substitute NaN with non-sense ages, working age from 18 to 80. Remove - (mistakes)\n",
    "ds[\"Age\"] = ds['Age'].apply(lambda x: str(x).replace('-', '') if 18<int(x)<80 else None)\n",
    "#check resulting number on NaNs and drop rows if not relevant:\n",
    "print(\"Number nulls in Age:\",(ds[\"Age\"].isnull().sum()))"
   ]
  },
  {
   "cell_type": "code",
   "execution_count": 7,
   "metadata": {},
   "outputs": [
    {
     "name": "stdout",
     "output_type": "stream",
     "text": [
      "1244\n"
     ]
    }
   ],
   "source": [
    "#drop rows\n",
    "ds = ds[pd.notnull(ds['Age'])]\n",
    "ds[\"Age\"] = ds[\"Age\"].astype(\"int\")\n",
    "print(len(ds))"
   ]
  },
  {
   "cell_type": "markdown",
   "metadata": {},
   "source": [
    "\n",
    "### WORK AND MENTAL ILLNESS\n",
    "\n",
    "    "
   ]
  },
  {
   "cell_type": "code",
   "execution_count": 8,
   "metadata": {},
   "outputs": [
    {
     "name": "stdout",
     "output_type": "stream",
     "text": [
      "% Nulls work interfere on tot:  0.2090032154340836\n"
     ]
    }
   ],
   "source": [
    "#Check for Nulls in work interfere\". Drop rows if negligible amount or fill with NA if relevant\n",
    "print(\"% Nulls work interfere on tot: \",(ds[\"work_interfere\"].isnull().sum())/len(ds))\n",
    "ds[\"work_interfere\"].fillna(\"NA\", inplace=True)"
   ]
  },
  {
   "cell_type": "markdown",
   "metadata": {},
   "source": [
    "#### DEFINE MENTAL ILLNESS STATE"
   ]
  },
  {
   "cell_type": "code",
   "execution_count": 9,
   "metadata": {},
   "outputs": [
    {
     "data": {
      "text/html": [
       "<div>\n",
       "<style scoped>\n",
       "    .dataframe tbody tr th:only-of-type {\n",
       "        vertical-align: middle;\n",
       "    }\n",
       "\n",
       "    .dataframe tbody tr th {\n",
       "        vertical-align: top;\n",
       "    }\n",
       "\n",
       "    .dataframe thead th {\n",
       "        text-align: right;\n",
       "    }\n",
       "</style>\n",
       "<table border=\"1\" class=\"dataframe\">\n",
       "  <thead>\n",
       "    <tr style=\"text-align: right;\">\n",
       "      <th></th>\n",
       "      <th>Timestamp</th>\n",
       "      <th>Age</th>\n",
       "      <th>Gender</th>\n",
       "      <th>Country</th>\n",
       "      <th>state</th>\n",
       "      <th>self_employed</th>\n",
       "      <th>family_history</th>\n",
       "      <th>treatment</th>\n",
       "      <th>work_interfere</th>\n",
       "      <th>no_employees</th>\n",
       "      <th>...</th>\n",
       "      <th>mental_health_consequence</th>\n",
       "      <th>phys_health_consequence</th>\n",
       "      <th>coworkers</th>\n",
       "      <th>supervisor</th>\n",
       "      <th>mental_health_interview</th>\n",
       "      <th>phys_health_interview</th>\n",
       "      <th>mental_vs_physical</th>\n",
       "      <th>obs_consequence</th>\n",
       "      <th>comments</th>\n",
       "      <th>mental_ill</th>\n",
       "    </tr>\n",
       "  </thead>\n",
       "  <tbody>\n",
       "    <tr>\n",
       "      <th>0</th>\n",
       "      <td>2014-08-27 11:29:31</td>\n",
       "      <td>37</td>\n",
       "      <td>Female</td>\n",
       "      <td>United States</td>\n",
       "      <td>IL</td>\n",
       "      <td>NaN</td>\n",
       "      <td>No</td>\n",
       "      <td>Yes</td>\n",
       "      <td>Often</td>\n",
       "      <td>6-25</td>\n",
       "      <td>...</td>\n",
       "      <td>No</td>\n",
       "      <td>No</td>\n",
       "      <td>Some of them</td>\n",
       "      <td>Yes</td>\n",
       "      <td>No</td>\n",
       "      <td>Maybe</td>\n",
       "      <td>Yes</td>\n",
       "      <td>No</td>\n",
       "      <td>NaN</td>\n",
       "      <td>Yes</td>\n",
       "    </tr>\n",
       "    <tr>\n",
       "      <th>1</th>\n",
       "      <td>2014-08-27 11:29:37</td>\n",
       "      <td>44</td>\n",
       "      <td>M</td>\n",
       "      <td>United States</td>\n",
       "      <td>IN</td>\n",
       "      <td>NaN</td>\n",
       "      <td>No</td>\n",
       "      <td>No</td>\n",
       "      <td>Rarely</td>\n",
       "      <td>More than 1000</td>\n",
       "      <td>...</td>\n",
       "      <td>Maybe</td>\n",
       "      <td>No</td>\n",
       "      <td>No</td>\n",
       "      <td>No</td>\n",
       "      <td>No</td>\n",
       "      <td>No</td>\n",
       "      <td>Don't know</td>\n",
       "      <td>No</td>\n",
       "      <td>NaN</td>\n",
       "      <td>Yes</td>\n",
       "    </tr>\n",
       "    <tr>\n",
       "      <th>2</th>\n",
       "      <td>2014-08-27 11:29:44</td>\n",
       "      <td>32</td>\n",
       "      <td>Male</td>\n",
       "      <td>Canada</td>\n",
       "      <td>NaN</td>\n",
       "      <td>NaN</td>\n",
       "      <td>No</td>\n",
       "      <td>No</td>\n",
       "      <td>Rarely</td>\n",
       "      <td>6-25</td>\n",
       "      <td>...</td>\n",
       "      <td>No</td>\n",
       "      <td>No</td>\n",
       "      <td>Yes</td>\n",
       "      <td>Yes</td>\n",
       "      <td>Yes</td>\n",
       "      <td>Yes</td>\n",
       "      <td>No</td>\n",
       "      <td>No</td>\n",
       "      <td>NaN</td>\n",
       "      <td>Yes</td>\n",
       "    </tr>\n",
       "    <tr>\n",
       "      <th>3</th>\n",
       "      <td>2014-08-27 11:29:46</td>\n",
       "      <td>31</td>\n",
       "      <td>Male</td>\n",
       "      <td>United Kingdom</td>\n",
       "      <td>NaN</td>\n",
       "      <td>NaN</td>\n",
       "      <td>Yes</td>\n",
       "      <td>Yes</td>\n",
       "      <td>Often</td>\n",
       "      <td>26-100</td>\n",
       "      <td>...</td>\n",
       "      <td>Yes</td>\n",
       "      <td>Yes</td>\n",
       "      <td>Some of them</td>\n",
       "      <td>No</td>\n",
       "      <td>Maybe</td>\n",
       "      <td>Maybe</td>\n",
       "      <td>No</td>\n",
       "      <td>Yes</td>\n",
       "      <td>NaN</td>\n",
       "      <td>Yes</td>\n",
       "    </tr>\n",
       "    <tr>\n",
       "      <th>4</th>\n",
       "      <td>2014-08-27 11:30:22</td>\n",
       "      <td>31</td>\n",
       "      <td>Male</td>\n",
       "      <td>United States</td>\n",
       "      <td>TX</td>\n",
       "      <td>NaN</td>\n",
       "      <td>No</td>\n",
       "      <td>No</td>\n",
       "      <td>Never</td>\n",
       "      <td>100-500</td>\n",
       "      <td>...</td>\n",
       "      <td>No</td>\n",
       "      <td>No</td>\n",
       "      <td>Some of them</td>\n",
       "      <td>Yes</td>\n",
       "      <td>Yes</td>\n",
       "      <td>Yes</td>\n",
       "      <td>Don't know</td>\n",
       "      <td>No</td>\n",
       "      <td>NaN</td>\n",
       "      <td>Yes</td>\n",
       "    </tr>\n",
       "  </tbody>\n",
       "</table>\n",
       "<p>5 rows × 28 columns</p>\n",
       "</div>"
      ],
      "text/plain": [
       "             Timestamp  Age  Gender         Country state self_employed  \\\n",
       "0  2014-08-27 11:29:31   37  Female   United States    IL           NaN   \n",
       "1  2014-08-27 11:29:37   44       M   United States    IN           NaN   \n",
       "2  2014-08-27 11:29:44   32    Male          Canada   NaN           NaN   \n",
       "3  2014-08-27 11:29:46   31    Male  United Kingdom   NaN           NaN   \n",
       "4  2014-08-27 11:30:22   31    Male   United States    TX           NaN   \n",
       "\n",
       "  family_history treatment work_interfere    no_employees  ...  \\\n",
       "0             No       Yes          Often            6-25  ...   \n",
       "1             No        No         Rarely  More than 1000  ...   \n",
       "2             No        No         Rarely            6-25  ...   \n",
       "3            Yes       Yes          Often          26-100  ...   \n",
       "4             No        No          Never         100-500  ...   \n",
       "\n",
       "  mental_health_consequence phys_health_consequence     coworkers supervisor  \\\n",
       "0                        No                      No  Some of them        Yes   \n",
       "1                     Maybe                      No            No         No   \n",
       "2                        No                      No           Yes        Yes   \n",
       "3                       Yes                     Yes  Some of them         No   \n",
       "4                        No                      No  Some of them        Yes   \n",
       "\n",
       "  mental_health_interview phys_health_interview mental_vs_physical  \\\n",
       "0                      No                 Maybe                Yes   \n",
       "1                      No                    No         Don't know   \n",
       "2                     Yes                   Yes                 No   \n",
       "3                   Maybe                 Maybe                 No   \n",
       "4                     Yes                   Yes         Don't know   \n",
       "\n",
       "  obs_consequence comments mental_ill  \n",
       "0              No      NaN        Yes  \n",
       "1              No      NaN        Yes  \n",
       "2              No      NaN        Yes  \n",
       "3             Yes      NaN        Yes  \n",
       "4              No      NaN        Yes  \n",
       "\n",
       "[5 rows x 28 columns]"
      ]
     },
     "execution_count": 9,
     "metadata": {},
     "output_type": "execute_result"
    }
   ],
   "source": [
    "#Add column to dataset to mark if employee has mental health issues or not, based on the description\n",
    "#of the columns above. \n",
    "ds.loc[ds['treatment'] == \"Yes\", 'mental_ill'] = \"Yes\"\n",
    "ds.loc[((ds[\"treatment\"] == \"No\") & (ds[\"work_interfere\"] != \"NA\")),\"mental_ill\"] = \"Yes\"\n",
    "ds.loc[((ds[\"treatment\"] == \"No\") & (ds[\"work_interfere\"] == \"NA\")),\"mental_ill\"] = \"No\"\n",
    "ds.head()\n"
   ]
  },
  {
   "cell_type": "code",
   "execution_count": 10,
   "metadata": {},
   "outputs": [],
   "source": [
    "#Filter dataset by to isolate employees with mental health issues\n",
    "ment = ds[(ds[\"mental_ill\"] == \"Yes\")]\n",
    "non_ment = ds[(ds[\"mental_ill\"] == \"No\")]"
   ]
  },
  {
   "cell_type": "markdown",
   "metadata": {},
   "source": [
    "### MENATAL ILLNESS IN SURVEYED POPULATION"
   ]
  },
  {
   "cell_type": "code",
   "execution_count": 14,
   "metadata": {},
   "outputs": [
    {
     "data": {
      "image/png": "[encoded data removed]",
      "text/plain": [
       "<Figure size 432x288 with 1 Axes>"
      ]
     },
     "metadata": {},
     "output_type": "display_data"
    }
   ],
   "source": [
    "_,texts,autotexts = plt.pie([len(ment),len(non_ment)], colors=[\"indianred\",\"olivedrab\"],\n",
    "        labels=[\"Mental Illness\",\"Healthy\"],autopct = '%1.1f%%',shadow=True, startangle=90)\n",
    "for text in texts:\n",
    "    text.set_size(12)\n",
    "    text.set_fontweight(\"heavy\")\n",
    "plt.title(\"Share of Mentally Ill People over total Sample\",\n",
    "          fontweight='heavy', size=15)\n",
    "plt.savefig(\"Share-Mental-Illness\")"
   ]
  },
  {
   "cell_type": "markdown",
   "metadata": {},
   "source": [
    "### HOW IS MENTAL ILLNESS RELATED WITH AGE OR WITH FAMILY HISTORY?"
   ]
  },
  {
   "cell_type": "code",
   "execution_count": 33,
   "metadata": {
    "scrolled": true
   },
   "outputs": [
    {
     "data": {
      "image/png": "[encoded data removed]",
      "text/plain": [
       "<Figure size 864x432 with 2 Axes>"
      ]
     },
     "metadata": {
      "needs_background": "light"
     },
     "output_type": "display_data"
    }
   ],
   "source": [
    "#calcualte the series of the age for both total and mentally ill\n",
    "ds_age = ds.sort_values(by='Age').groupby(by='Age').count()['Timestamp']\n",
    "ment_age = ment.sort_values(by='Age').groupby(by='Age').count()['Timestamp']\n",
    "\n",
    "#count family history cases for both mental illness and not\n",
    "family_ment = ment.groupby(by=\"family_history\").count()['Timestamp']\n",
    "family_tot = ds.groupby(by=\"family_history\").count()['Timestamp']\n",
    "\n",
    "fig, ax = plt.subplots(1,2, figsize=(12,6))\n",
    "# Display Age distribution for an mental illness and non\n",
    "ax[0].plot(ds_age, \"olivedrab\", label='Total')\n",
    "ax[0].plot(ment_age,\"indianred\", label='Mental Illness')\n",
    "ax[0].set_xticks(np.arange(0,70, step=4))\n",
    "\n",
    "#ax[0].xlim(0,80)\n",
    "ax[0].set_xlabel('Age',fontweight=\"heavy\")\n",
    "ax[0].set_ylabel('Mental Illness',fontweight=\"heavy\")\n",
    "ax[0].set_title(\"Age Trend: Mental Ill VS Total Sample\",fontweight='heavy', size=12)\n",
    "ax[0].legend()\n",
    "\n",
    "\n",
    "#Display relationshiop between mental illness and reported family history\n",
    "ax[1].bar([\"Family History\",\"Not Reported\"],family_tot,color=\"olivedrab\",\n",
    "          label='Total')\n",
    "ax[1].bar([\"Family History\",\"Not Reported\"],family_ment,\n",
    "          color=\"indianred\",label='Mental Illness')\n",
    "\n",
    "ax[1].set_ylabel('Number of People',fontweight=\"heavy\")\n",
    "ax[1].set_title(\"Mental Illness and Family History\",fontweight='heavy', size=12)\n",
    "ax[1].legend()\n",
    "\n",
    "plt.savefig(\"Age-Family\")"
   ]
  },
  {
   "cell_type": "code",
   "execution_count": 17,
   "metadata": {},
   "outputs": [
    {
     "name": "stdout",
     "output_type": "stream",
     "text": [
      "TOT 32.155948553054664\n",
      "MENT 32.392712550607285\n"
     ]
    }
   ],
   "source": [
    "# Average Age of People VS Average Age of People with Mental Illness\n",
    "avg_tot = ds[\"Age\"].mean()\n",
    "avg_ment = ment[\"Age\"].mean()\n",
    "print(\"TOT\",avg_tot)\n",
    "print(\"MENT\",avg_ment)"
   ]
  },
  {
   "cell_type": "code",
   "execution_count": 18,
   "metadata": {},
   "outputs": [
    {
     "name": "stdout",
     "output_type": "stream",
     "text": [
      "[('Family History', 0.716931216931217), ('Not Reported', 0.9139344262295082)]\n"
     ]
    }
   ],
   "source": [
    "#Relative share of people with reported and nor-reported family history who are\n",
    "#affected by mental illness:\n",
    "share_ment = [i for i in family_ment/family_tot]\n",
    "print([i for i in zip([\"Family History\",\"Not Reported\"],share_ment)])"
   ]
  },
  {
   "cell_type": "markdown",
   "metadata": {},
   "source": [
    "### HOW IS MENTAL ILLNESS RELATED WITH COMPANY SIZE AND REMOTE WORK?"
   ]
  },
  {
   "cell_type": "code",
   "execution_count": 21,
   "metadata": {},
   "outputs": [
    {
     "data": {
      "image/png": "[encoded data removed]",
      "text/plain": [
       "<Figure size 864x432 with 2 Axes>"
      ]
     },
     "metadata": {
      "needs_background": "light"
     },
     "output_type": "display_data"
    }
   ],
   "source": [
    "#Define frequency of mental illness over total for each company size\n",
    "sizes = ['1-5','100-500','26-100','500-1000','6-25','More than 1000']\n",
    "size_tot = ds.groupby(by=\"no_employees\").count()[\"Timestamp\"]\n",
    "size_ment = ment.groupby(by=\"no_employees\").count()[\"Timestamp\"]\n",
    "\n",
    "\n",
    "#Count mental illness cases among remote workers\n",
    "rem_ment = ment.groupby(by=\"remote_work\").count()['Timestamp']\n",
    "rem_tot = ds.groupby(by=\"remote_work\").count()['Timestamp']\n",
    "\n",
    "\n",
    "fig, ax = plt.subplots(1,2, figsize=(12,6))\n",
    "\n",
    "# Display Relative freq of mental illness by company size \n",
    "ax[0].barh(sizes,size_tot,color=\"olivedrab\", label='Total')\n",
    "ax[0].barh(sizes,size_ment,color=\"indianred\", label='Mental Illness')\n",
    "\n",
    "ax[0].set_xlabel('Number of Employees',fontweight=\"heavy\")\n",
    "ax[0].set_ylabel('Company Size',fontweight=\"heavy\")\n",
    "ax[0].set_title(\"Mental Illness by Company Size\",fontweight='heavy', size=12)\n",
    "ax[0].legend()\n",
    "\n",
    "\n",
    "#Display relationshiop between mental illness and remote work\n",
    "ax[1].bar([\"Normal\",\"Remote\"],rem_tot,color=\"olivedrab\",label='Total')\n",
    "ax[1].bar([\"Normal\",\"Remote\"],rem_ment,color=\"indianred\",\n",
    "          label='Mental Illness')\n",
    "\n",
    "ax[1].set_ylabel('Number of People',fontweight=\"heavy\")\n",
    "ax[1].set_title(\"Mental Illness and Remote Work\",fontweight='heavy', size=12)\n",
    "ax[1].legend()\n",
    "\n",
    "plt.savefig(\"Size-Remote\")"
   ]
  },
  {
   "cell_type": "code",
   "execution_count": 22,
   "metadata": {},
   "outputs": [
    {
     "name": "stdout",
     "output_type": "stream",
     "text": [
      "[('1-5', 0.8782051282051282), ('100-500', 0.8), ('26-100', 0.8006993006993007), ('500-1000', 0.7457627118644068), ('6-25', 0.7560975609756098), ('More than 1000', 0.7864768683274022)]\n"
     ]
    }
   ],
   "source": [
    "#Relative share of employees affected by mental illness\n",
    "share_ment = [i for i in size_ment/size_tot]\n",
    "print([i for i in zip(sizes,share_ment)])"
   ]
  },
  {
   "cell_type": "code",
   "execution_count": 23,
   "metadata": {},
   "outputs": [
    {
     "name": "stdout",
     "output_type": "stream",
     "text": [
      "[('Normal', 0.7867730900798175), ('Remote', 0.8119891008174387)]\n"
     ]
    }
   ],
   "source": [
    "#Relative share of Normal and Remote workers affected by mental illness\n",
    "share_ment = [i for i in rem_ment/rem_tot]\n",
    "print([i for i in zip([\"Normal\",\"Remote\"],share_ment)])"
   ]
  },
  {
   "cell_type": "markdown",
   "metadata": {},
   "source": [
    "### IS MENTAL ILLNESS MORE PENALIZING IN TECH JOBS?"
   ]
  },
  {
   "cell_type": "code",
   "execution_count": 24,
   "metadata": {},
   "outputs": [
    {
     "data": {
      "text/html": [
       "<div>\n",
       "<style scoped>\n",
       "    .dataframe tbody tr th:only-of-type {\n",
       "        vertical-align: middle;\n",
       "    }\n",
       "\n",
       "    .dataframe tbody tr th {\n",
       "        vertical-align: top;\n",
       "    }\n",
       "\n",
       "    .dataframe thead th {\n",
       "        text-align: right;\n",
       "    }\n",
       "</style>\n",
       "<table border=\"1\" class=\"dataframe\">\n",
       "  <thead>\n",
       "    <tr style=\"text-align: right;\">\n",
       "      <th></th>\n",
       "      <th>work_interfere</th>\n",
       "      <th>count</th>\n",
       "      <th>rel_freq</th>\n",
       "    </tr>\n",
       "  </thead>\n",
       "  <tbody>\n",
       "    <tr>\n",
       "      <th>0</th>\n",
       "      <td>NA</td>\n",
       "      <td>4</td>\n",
       "      <td>0.004944</td>\n",
       "    </tr>\n",
       "    <tr>\n",
       "      <th>1</th>\n",
       "      <td>Never</td>\n",
       "      <td>176</td>\n",
       "      <td>0.217553</td>\n",
       "    </tr>\n",
       "    <tr>\n",
       "      <th>2</th>\n",
       "      <td>Often</td>\n",
       "      <td>108</td>\n",
       "      <td>0.133498</td>\n",
       "    </tr>\n",
       "    <tr>\n",
       "      <th>3</th>\n",
       "      <td>Rarely</td>\n",
       "      <td>136</td>\n",
       "      <td>0.168109</td>\n",
       "    </tr>\n",
       "    <tr>\n",
       "      <th>4</th>\n",
       "      <td>Sometimes</td>\n",
       "      <td>385</td>\n",
       "      <td>0.475896</td>\n",
       "    </tr>\n",
       "  </tbody>\n",
       "</table>\n",
       "</div>"
      ],
      "text/plain": [
       "  work_interfere  count  rel_freq\n",
       "0             NA      4  0.004944\n",
       "1          Never    176  0.217553\n",
       "2          Often    108  0.133498\n",
       "3         Rarely    136  0.168109\n",
       "4      Sometimes    385  0.475896"
      ]
     },
     "execution_count": 24,
     "metadata": {},
     "output_type": "execute_result"
    }
   ],
   "source": [
    "#filter for tech companies and compute frequancy of each ot the possibilities for work interfere\n",
    "tech = ment.loc[ment[\"tech_company\"] ==\"Yes\"]\n",
    "tech\n",
    "\n",
    "#among tech companies, group by levels of work interference of mental illness:\n",
    "t_ill = tech.groupby(\"work_interfere\").agg({\"tech_company\": \"count\"})\n",
    "t_ill = t_ill.reset_index()\n",
    "t_ill.rename(columns={\"tech_company\":\"count\"}, inplace=True)\n",
    "t_ill[\"rel_freq\"] = t_ill[\"count\"]/t_ill[\"count\"].sum(axis=0)\n",
    "t_ill"
   ]
  },
  {
   "cell_type": "code",
   "execution_count": 25,
   "metadata": {},
   "outputs": [
    {
     "data": {
      "text/html": [
       "<div>\n",
       "<style scoped>\n",
       "    .dataframe tbody tr th:only-of-type {\n",
       "        vertical-align: middle;\n",
       "    }\n",
       "\n",
       "    .dataframe tbody tr th {\n",
       "        vertical-align: top;\n",
       "    }\n",
       "\n",
       "    .dataframe thead th {\n",
       "        text-align: right;\n",
       "    }\n",
       "</style>\n",
       "<table border=\"1\" class=\"dataframe\">\n",
       "  <thead>\n",
       "    <tr style=\"text-align: right;\">\n",
       "      <th></th>\n",
       "      <th>work_interfere</th>\n",
       "      <th>count</th>\n",
       "      <th>rel_freq</th>\n",
       "    </tr>\n",
       "  </thead>\n",
       "  <tbody>\n",
       "    <tr>\n",
       "      <th>0</th>\n",
       "      <td>Never</td>\n",
       "      <td>35</td>\n",
       "      <td>0.195531</td>\n",
       "    </tr>\n",
       "    <tr>\n",
       "      <th>1</th>\n",
       "      <td>Often</td>\n",
       "      <td>31</td>\n",
       "      <td>0.173184</td>\n",
       "    </tr>\n",
       "    <tr>\n",
       "      <th>2</th>\n",
       "      <td>Rarely</td>\n",
       "      <td>36</td>\n",
       "      <td>0.201117</td>\n",
       "    </tr>\n",
       "    <tr>\n",
       "      <th>3</th>\n",
       "      <td>Sometimes</td>\n",
       "      <td>77</td>\n",
       "      <td>0.430168</td>\n",
       "    </tr>\n",
       "  </tbody>\n",
       "</table>\n",
       "</div>"
      ],
      "text/plain": [
       "  work_interfere  count  rel_freq\n",
       "0          Never     35  0.195531\n",
       "1          Often     31  0.173184\n",
       "2         Rarely     36  0.201117\n",
       "3      Sometimes     77  0.430168"
      ]
     },
     "execution_count": 25,
     "metadata": {},
     "output_type": "execute_result"
    }
   ],
   "source": [
    "#filter for NON tech companies and compute frequency of each ot the possibilities for work interfere\n",
    "ntech = ment.loc[ment[\"tech_company\"] ==\"No\"]\n",
    "ntech.head()\n",
    "\n",
    "#among tech companies, group by levels of work interference of mental illness:\n",
    "nt_ill = ntech.groupby(\"work_interfere\").agg({\"tech_company\": \"count\"})\n",
    "nt_ill = nt_ill.reset_index() \n",
    "nt_ill.rename(columns={\"tech_company\":\"count\"}, inplace=True)\n",
    "nt_ill[\"rel_freq\"] = nt_ill[\"count\"]/nt_ill[\"count\"].sum(axis=0)\n",
    "nt_ill"
   ]
  },
  {
   "cell_type": "code",
   "execution_count": 34,
   "metadata": {},
   "outputs": [
    {
     "data": {
      "image/png": "[encoded data removed]",
      "text/plain": [
       "<Figure size 1080x432 with 2 Axes>"
      ]
     },
     "metadata": {},
     "output_type": "display_data"
    }
   ],
   "source": [
    "#Displays 2 pie charts to visually compare the relative frequencies of work_interfere.\n",
    "\n",
    "interf_t = [i for i in t_ill[\"work_interfere\"].unique()]\n",
    "interf_nt = [i for i in nt_ill[\"work_interfere\"].unique()]\n",
    "\n",
    "fig, ax = plt.subplots(1,2, figsize=(15,6))\n",
    "plt.sca(ax[0])\n",
    "col = [\"lightgray\",\"olivedrab\",\"maroon\",\"darksalmon\",\"indianred\"]\n",
    "_,texts,autotexts = plt.pie(t_ill[\"count\"], colors=col, labels=interf_t, \n",
    "                            autopct = '%1.1f%%',shadow=True, startangle=90)\n",
    "for text in texts:\n",
    "    text.set_size(12)\n",
    "    text.set_fontweight(\"heavy\")\n",
    "plt.title(\"Perceived Level of Interference with Work \\n TECH COMPANIES\",\n",
    "          fontweight='heavy', size=15)\n",
    "\n",
    "plt.sca(ax[1])\n",
    "col = [\"olivedrab\",\"maroon\",\"darksalmon\",\"indianred\"]\n",
    "_,texts,autotexts = plt.pie(nt_ill[\"count\"], colors=col, labels=interf_nt,\n",
    "                            autopct = '%1.1f%%', shadow=True, startangle=90)\n",
    "for text in texts:\n",
    "    text.set_size(12)\n",
    "plt.title(\"Perceived Level of Interferenc with Work \\n NON-TECH COMPANIES\",\n",
    "          fontweight='light', size=15)\n",
    "\n",
    "plt.savefig(\"Level-of-Interference\")"
   ]
  },
  {
   "cell_type": "markdown",
   "metadata": {},
   "source": [
    "### MENTAL ILLNESS AT WORKPLACE - IS THE LEVEL OF SUPPORT AND BENEFITS MATCHING THE ACTUAL NEEDS? "
   ]
  },
  {
   "cell_type": "code",
   "execution_count": 29,
   "metadata": {},
   "outputs": [
    {
     "data": {
      "image/png": "[encoded data removed]",
      "text/plain": [
       "<Figure size 576x360 with 1 Axes>"
      ]
     },
     "metadata": {
      "needs_background": "light"
     },
     "output_type": "display_data"
    }
   ],
   "source": [
    "#filter for mental illness with need of support\n",
    "need = ment[(ment[\"work_interfere\"] == \"Often\")|(ment[\"work_interfere\"] == \"Rarely\")|\n",
    "           (ment[\"work_interfere\"] == \"Sometimes\")]\n",
    "tot = need[\"Timestamp\"].count()\n",
    "\n",
    "#filter for employees reporting support is provided in at least one of the following:\n",
    "sup_ben = need[(need[\"benefits\"] == \"Yes\")][\"Timestamp\"].count()\n",
    "sup_well = need[(need[\"wellness_program\"] == \"Yes\")][\"Timestamp\"].count()\n",
    "sup_help = need[(need[\"seek_help\"] == \"Yes\")][\"Timestamp\"].count()\n",
    "sup_leave = need[(need[\"leave\"] == \"Somewhat easy\")|(need[\"leave\"] == \"Very easy\")][\"Timestamp\"].count()\n",
    "\n",
    "#plot level of support VS total need for each form\n",
    "fig = plt.figure(figsize=(8,5))\n",
    "plt.bar([\"Benefits\",\"Wellness Program\",\"Help Resources\",\"Easy Leave\"],[tot,tot,tot,tot],\n",
    "          color=\"darksalmon\",label='Total')\n",
    "plt.bar([\"Benefits\",\"Wellness Program\",\"Help Resources\",\"Easy Leave\"],\n",
    "          [sup_ben,sup_well,sup_help,sup_leave],color=\"olivedrab\",label='Support Offered by Company')\n",
    "\n",
    "plt.ylabel('Number of People',fontweight=\"heavy\")\n",
    "plt.title(\"Support schemes to Work Interfering Mental Illness Condition\",fontweight='heavy', size=12)\n",
    "plt.legend()\n",
    "\n",
    "plt.savefig(\"Support-schemes\")"
   ]
  },
  {
   "cell_type": "code",
   "execution_count": 30,
   "metadata": {},
   "outputs": [
    {
     "name": "stdout",
     "output_type": "stream",
     "text": [
      "0.4243208279430789\n",
      "0.20051746442432083\n",
      "0.2186287192755498\n",
      "0.36998706338939197\n"
     ]
    }
   ],
   "source": [
    "sup_ratios = [sup_ben/tot,sup_well/tot,sup_help/tot,sup_leave/tot]\n",
    "for i in sup_ratios:\n",
    "    print(i)"
   ]
  },
  {
   "cell_type": "markdown",
   "metadata": {},
   "source": [
    "### MENTAL ILLENSS AT WORKPLACE - ARE EMPLOYEES WITH MENTAL ILLNESS ISSUES SUPPORTED BY COMPANY CULTURE?"
   ]
  },
  {
   "cell_type": "code",
   "execution_count": 31,
   "metadata": {},
   "outputs": [
    {
     "data": {
      "image/png": "[encoded data removed]",
      "text/plain": [
       "<Figure size 936x360 with 1 Axes>"
      ]
     },
     "metadata": {
      "needs_background": "light"
     },
     "output_type": "display_data"
    }
   ],
   "source": [
    "#filter for employees with mental health issues interfearing with \n",
    "#work activity who report positive company culture according to multiple criteria:\n",
    "cult_anon = need[(need[\"anonymity\"] == \"Yes\")][\"Timestamp\"].count()\n",
    "cult_ment_cons = need[(need[\"mental_health_consequence\"] == \"No\")][\"Timestamp\"].count()\n",
    "cult_cow = need[(need[\"coworkers\"] == \"Yes\")|(need[\"coworkers\"] == \"Some of them\")][\"Timestamp\"].count()\n",
    "cult_sup = need[(need[\"supervisor\"] == \"Yes\")|(need[\"supervisor\"] == \"Some of them\")][\"Timestamp\"].count()\n",
    "cult_ment_phys = need[(need[\"mental_vs_physical\"] == \"Yes\")][\"Timestamp\"].count()\n",
    "cult_obs_cons = need[(need[\"obs_consequence\"] == \"No\")][\"Timestamp\"].count()\n",
    "\n",
    "\n",
    "#plot positive culture VS total for each criteria\n",
    "fig = plt.figure(figsize=(13,5))\n",
    "plt.bar([\"Anonymity Protected\",\"Open Dialogue\",\"Coworkers\",\n",
    "         \"Supervisors\",\"Illness Consideration\",\"Consequeces of Disclosure\"],\n",
    "        [tot,tot,tot,tot,tot,tot],color=\"darksalmon\",label='Total')\n",
    "plt.bar([\"Anonymity Protected\",\"Open Dialogue\",\"Coworkers\",\n",
    "         \"Supervisors\",\"Illness Consideration\",\"Consequeces of Disclosure\"],\n",
    "        [cult_anon,cult_ment_cons,cult_cow,cult_sup,cult_ment_phys,cult_obs_cons],\n",
    "        color=\"olivedrab\",label='Positive Company Culture')\n",
    "\n",
    "plt.ylabel('Number of People',fontweight=\"heavy\")\n",
    "plt.title(\"Company Culture on Mental Illness Condition\",fontweight='heavy', size=12)\n",
    "plt.legend()\n",
    "\n",
    "plt.savefig(\"Positive-Culture\")"
   ]
  },
  {
   "cell_type": "code",
   "execution_count": 32,
   "metadata": {},
   "outputs": [
    {
     "name": "stdout",
     "output_type": "stream",
     "text": [
      "0.3221216041397154\n",
      "0.3311772315653299\n",
      "0.8033635187580854\n",
      "0.6649417852522639\n",
      "0.26390685640362227\n",
      "0.8098318240620958\n"
     ]
    }
   ],
   "source": [
    "cult_ratios = [cult_anon/tot,cult_ment_cons/tot,cult_cow/tot,cult_sup/tot,\n",
    "               cult_ment_phys/tot,cult_obs_cons/tot]\n",
    "for i in cult_ratios:\n",
    "    print(i)"
   ]
  }
 ],
 "metadata": {
  "kernelspec": {
   "display_name": "Python 3",
   "language": "python",
   "name": "python3"
  },
  "language_info": {
   "codemirror_mode": {
    "name": "ipython",
    "version": 3
   },
   "file_extension": ".py",
   "mimetype": "text/x-python",
   "name": "python",
   "nbconvert_exporter": "python",
   "pygments_lexer": "ipython3",
   "version": "3.6.8"
  }
 },
 "nbformat": 4,
 "nbformat_minor": 2
}
